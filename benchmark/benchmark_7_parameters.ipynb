{
 "cells": [
  {
   "cell_type": "markdown",
   "metadata": {},
   "source": [
    "# Benchmark Algo on a simple problem\n",
    "Minimizing the sinusoidale function between 0 and 2pi"
   ]
  },
  {
   "cell_type": "code",
   "execution_count": 1,
   "metadata": {},
   "outputs": [],
   "source": [
    "import sys\n",
    "sys.path.append(\"../\")\n",
    "from base import benchmark_value\n",
    "import numpy as np\n",
    "import matplotlib.pyplot as plt\n"
   ]
  },
  {
   "cell_type": "code",
   "execution_count": 2,
   "metadata": {},
   "outputs": [],
   "source": [
    "optimization_problem = [\n",
    "    {\n",
    "        \"name\": \"x1\",\n",
    "        \"category\": \"uniform\",\n",
    "        \"search_space\": {\n",
    "            \"low\": 0,\n",
    "            \"high\": 10,\n",
    "        }\n",
    "    },\n",
    "    {\n",
    "        \"name\": \"x1_step\",\n",
    "        \"category\": \"uniform\",\n",
    "        \"search_space\": {\n",
    "            \"low\": 0,\n",
    "            \"high\": 10,\n",
    "            \"step\": 1\n",
    "        }\n",
    "    },\n",
    "    {\n",
    "        \"name\": \"x2\",\n",
    "        \"category\": \"loguniform\",\n",
    "        \"search_space\": {\n",
    "            \"low\": 1e4,\n",
    "            \"high\": 1e6,\n",
    "            \"base\": 10,\n",
    "        }\n",
    "    },\n",
    "    {\n",
    "        \"name\": \"x2_step\",\n",
    "        \"category\": \"loguniform\",\n",
    "        \"search_space\": {\n",
    "            \"low\": 1e4,\n",
    "            \"high\": 1e6,\n",
    "            \"step\": 1e3,\n",
    "            \"base\": 10,\n",
    "        }\n",
    "    },\n",
    "    {\n",
    "        \"name\": \"x3\",\n",
    "        \"category\": \"normal\",\n",
    "        \"search_space\": {\n",
    "            \"mu\": 8,\n",
    "            \"sigma\": 4,\n",
    "            \"low\": 0,\n",
    "            \"high\": 10,\n",
    "        }\n",
    "    },\n",
    "    {\n",
    "        \"name\": \"x3_step\",\n",
    "        \"category\": \"normal\",\n",
    "        \"search_space\": {\n",
    "            \"mu\": 8,\n",
    "            \"sigma\": 4,\n",
    "            \"low\": 0,\n",
    "            \"high\": 10,\n",
    "            \"step\": 0.2,\n",
    "        }\n",
    "    },\n",
    "    {\n",
    "        \"name\": \"x4\",\n",
    "        \"category\": \"lognormal\",\n",
    "        \"search_space\": {\n",
    "            \"mu\": 1e-5,\n",
    "            \"sigma\": 1e1,\n",
    "            \"low\": 1e-7,\n",
    "            \"high\": 1e-3,\n",
    "            \"base\": 10,\n",
    "        }\n",
    "    },\n",
    "    {\n",
    "        \"name\": \"x4_step\",\n",
    "        \"category\": \"lognormal\",\n",
    "        \"search_space\": {\n",
    "            \"mu\": 1e-5,\n",
    "            \"sigma\": 1e1,\n",
    "            \"low\": 1e-8,\n",
    "            \"high\": 1e-3,\n",
    "            \"step\": 1e-8,\n",
    "            \"base\": 10,\n",
    "        }\n",
    "    },\n",
    "    #{\n",
    "    #    \"name\": \"x5\",\n",
    "    #    \"category\": \"categorical\",\n",
    "    #    \"search_space\": {\n",
    "    #        \"values\": [\"a\", \"b\", \"c\", \"d\"],\n",
    "    #    }\n",
    "    #},\n",
    "]\n",
    "\n",
    "\n",
    "def function_to_optimize(x1,\n",
    "                         x1_step,\n",
    "                         x2,\n",
    "                         x2_step,\n",
    "                         x3,\n",
    "                         x3_step,\n",
    "                         x4,\n",
    "                         x4_step,\n",
    "                         #x5\n",
    "                        ):\n",
    "    loss = 0\n",
    "    loss += ((x1 - 5.5) / 5.5) ** 2\n",
    "    loss += ((x1_step - 5) / 5) ** 2\n",
    "    loss += ((x2 - 3.75e4) / 3.75e4) ** 2\n",
    "    loss += ((x2_step - 9.2e4) / 9.2e4) ** 2\n",
    "    loss += ((x3 - 8.1447) / 8.1447) ** 2\n",
    "    loss += ((x3_step - 8) / 8) ** 2\n",
    "    loss += ((x4 - 1.33e-5) / 1.33e-5) ** 2\n",
    "    loss += ((x4_step - 1.456e-5) / 1.456e-5) ** 2\n",
    "    # loss += ([\"a\", \"b\", \"c\", \"d\"].index(x5) / (3 + 2 + 1 + 0))\n",
    "    return loss\n",
    "\n",
    "target = 0"
   ]
  },
  {
   "cell_type": "code",
   "execution_count": 6,
   "metadata": {},
   "outputs": [],
   "source": [
    "seeds = list(range(10))\n",
    "\n",
    "methods = [\"random\", \"parzen_estimator\"]\n",
    "\n",
    "number_of_evaluations = [5, 10, 20, 30, 40, 50, 60, 100, 200]"
   ]
  },
  {
   "cell_type": "code",
   "execution_count": 7,
   "metadata": {},
   "outputs": [
    {
     "name": "stdout",
     "output_type": "stream",
     "text": [
      "Number of trials: 180\n"
     ]
    },
    {
     "name": "stderr",
     "output_type": "stream",
     "text": [
      "[Parallel(n_jobs=-1)]: Using backend LokyBackend with 16 concurrent workers.\n",
      "[Parallel(n_jobs=-1)]: Done  11 out of 180 | elapsed:    0.1s remaining:    0.9s\n",
      "[Parallel(n_jobs=-1)]: Done 180 out of 180 | elapsed:  2.1min finished\n"
     ]
    }
   ],
   "source": [
    "results = benchmark_value(\n",
    "    function_to_optimize=function_to_optimize,\n",
    "    optimization_problem=optimization_problem,\n",
    "    target=target,\n",
    "    methods=methods,\n",
    "    number_of_evaluations=number_of_evaluations,\n",
    "    seeds=seeds,\n",
    "    parallel=True,\n",
    ")"
   ]
  },
  {
   "cell_type": "code",
   "execution_count": 8,
   "metadata": {},
   "outputs": [
    {
     "data": {
      "image/png": "[encoded data removed]",
      "text/plain": [
       "<Figure size 1152x576 with 1 Axes>"
      ]
     },
     "metadata": {
      "needs_background": "light"
     },
     "output_type": "display_data"
    }
   ],
   "source": [
    "plt.figure(figsize=(16, 8))\n",
    "for method in methods:\n",
    "    plt.errorbar(\n",
    "        x=number_of_evaluations,\n",
    "        y=[results[method][number_of_evaluation][\"mean\"] for number_of_evaluation in number_of_evaluations],\n",
    "        yerr=[results[method][number_of_evaluation][\"std\"] for number_of_evaluation in number_of_evaluations],\n",
    "        label=method,\n",
    "        alpha=0.7\n",
    "    )\n",
    "    plt.legend()\n",
    "    plt.yscale(\"log\")"
   ]
  },
  {
   "cell_type": "code",
   "execution_count": null,
   "metadata": {},
   "outputs": [],
   "source": []
  }
 ],
 "metadata": {
  "kernelspec": {
   "display_name": "Python 3",
   "language": "python",
   "name": "python3"
  },
  "language_info": {
   "codemirror_mode": {
    "name": "ipython",
    "version": 3
   },
   "file_extension": ".py",
   "mimetype": "text/x-python",
   "name": "python",
   "nbconvert_exporter": "python",
   "pygments_lexer": "ipython3",
   "version": "3.6.6"
  }
 },
 "nbformat": 4,
 "nbformat_minor": 2
}
